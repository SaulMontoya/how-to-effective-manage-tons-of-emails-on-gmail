{
 "cells": [
  {
   "cell_type": "markdown",
   "metadata": {},
   "source": [
    "## 1. Open the gmail through Gmail Imap"
   ]
  },
  {
   "cell_type": "code",
   "execution_count": 20,
   "metadata": {
    "collapsed": false
   },
   "outputs": [
    {
     "data": {
      "text/plain": [
       "('OK', ['4'])"
      ]
     },
     "execution_count": 20,
     "metadata": {},
     "output_type": "execute_result"
    }
   ],
   "source": [
    "# import the required libraries\n",
    "import email, getpass, imaplib, os\n",
    "\n",
    "# connecting to the gmail imap server\n",
    "m = imaplib.IMAP4_SSL(\"imap.gmail.com\")\n",
    "m.login('yourgmailaccount@gmail.com','yourpassword')\n",
    "m.select(\"INBOX\") # opens the inbox and gives the total amount of emails"
   ]
  },
  {
   "cell_type": "markdown",
   "metadata": {
    "collapsed": false
   },
   "source": [
    "## 2. Open the all emails and get the mail id"
   ]
  },
  {
   "cell_type": "code",
   "execution_count": 21,
   "metadata": {
    "collapsed": false
   },
   "outputs": [],
   "source": [
    "#searching for all email with imap rules\n",
    "resp, items = m.search(None, \"ALL\") \n",
    "# looking for mails id\n",
    "items = items[0].split() "
   ]
  },
  {
   "cell_type": "markdown",
   "metadata": {},
   "source": [
    "## 3. Searching for emails with a particular content\n",
    "\n",
    "Here is where magic comes true. All the email for the newsletter subscription have a regular content. Therefore we can search on the docens of email looking for the emails that fit the newsletter subcription content.\n",
    "\n",
    "In this case we have set that all newsletter subscription emails stars on line 5 with the expression ‘Corre’"
   ]
  },
  {
   "cell_type": "code",
   "execution_count": 22,
   "metadata": {
    "collapsed": false,
    "scrolled": true
   },
   "outputs": [
    {
     "data": {
      "text/plain": [
       "['marco1@hotmail.com',\n",
       " 'eva2@gmail.com',\n",
       " 'fiorella3@outlook.es',\n",
       " 'paul4@hotmail.com']"
      ]
     },
     "execution_count": 22,
     "metadata": {},
     "output_type": "execute_result"
    }
   ],
   "source": [
    "a = []\n",
    "for emailid in items:\n",
    "    resp, data = m.fetch(emailid, \"(BODY[TEXT])\") \n",
    "    email_body = data[0][1] # getting the mail content\n",
    "    mail = email.message_from_string(email_body)\n",
    "    for linea in email_body.split('\\n'):\n",
    "        if linea[:5]=='Corre':\n",
    "            a.append(linea[26:-1])\n",
    "a"
   ]
  },
  {
   "cell_type": "markdown",
   "metadata": {},
   "source": [
    "## 4. Saving results on a text file"
   ]
  },
  {
   "cell_type": "code",
   "execution_count": 23,
   "metadata": {
    "collapsed": false
   },
   "outputs": [],
   "source": [
    "text_file = open(\"Output.txt\", \"w\")\n",
    "for item in a:\n",
    "    text_file.write(item + '\\n')\n",
    "text_file.close()"
   ]
  },
  {
   "cell_type": "markdown",
   "metadata": {},
   "source": [
    "## 5. Purging all repeated emails\n",
    "\n",
    "Some persons send emails more than one time. Therefore we have to purge all duplicated emails."
   ]
  },
  {
   "cell_type": "code",
   "execution_count": 24,
   "metadata": {
    "collapsed": false
   },
   "outputs": [
    {
     "name": "stdout",
     "output_type": "stream",
     "text": [
      "4 4\n"
     ]
    }
   ],
   "source": [
    "archivo = 'Output.txt'\n",
    "contactos = open(archivo).read().splitlines()\n",
    "contactospurgados = set(contactos)\n",
    "# print all purged email and total emails\n",
    "print len(contactospurgados), len(contactos)"
   ]
  },
  {
   "cell_type": "code",
   "execution_count": 25,
   "metadata": {
    "collapsed": false
   },
   "outputs": [],
   "source": [
    "text_file = open(archivo, \"w\")\n",
    "for item in contactospurgados:\n",
    "    text_file.write(item + '\\n')\n",
    "text_file.close()"
   ]
  },
  {
   "cell_type": "code",
   "execution_count": null,
   "metadata": {
    "collapsed": true
   },
   "outputs": [],
   "source": []
  }
 ],
 "metadata": {
  "kernelspec": {
   "display_name": "Python 2",
   "language": "python",
   "name": "python2"
  },
  "language_info": {
   "codemirror_mode": {
    "name": "ipython",
    "version": 2
   },
   "file_extension": ".py",
   "mimetype": "text/x-python",
   "name": "python",
   "nbconvert_exporter": "python",
   "pygments_lexer": "ipython2",
   "version": "2.7.6"
  }
 },
 "nbformat": 4,
 "nbformat_minor": 0
}
